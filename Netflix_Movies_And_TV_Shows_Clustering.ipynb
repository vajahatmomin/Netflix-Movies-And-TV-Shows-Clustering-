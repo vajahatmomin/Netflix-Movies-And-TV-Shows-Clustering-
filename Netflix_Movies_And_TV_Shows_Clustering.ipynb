{
  "nbformat": 4,
  "nbformat_minor": 0,
  "metadata": {
    "colab": {
      "private_outputs": true,
      "provenance": [],
      "collapsed_sections": [
        "vncDsAP0Gaoa",
        "FJNUwmbgGyua",
        "w6K7xa23Elo4",
        "yQaldy8SH6Dl",
        "mDgbUHAGgjLW",
        "O_i_v8NEhb9l",
        "HhfV-JJviCcP",
        "Y3lxredqlCYt",
        "3RnN4peoiCZX",
        "x71ZqKXriCWQ",
        "7hBIi_osiCS2",
        "JlHwYmJAmNHm",
        "35m5QtbWiB9F",
        "PoPl-ycgm1ru",
        "H0kj-8xxnORC",
        "nA9Y7ga8ng1Z",
        "PBTbrJXOngz2",
        "u3PMJOP6ngxN",
        "dauF4eBmngu3",
        "bKJF3rekwFvQ",
        "MSa1f5Uengrz",
        "GF8Ens_Soomf",
        "0wOQAZs5pc--",
        "K5QZ13OEpz2H",
        "lQ7QKXXCp7Bj",
        "448CDAPjqfQr",
        "KSlN3yHqYklG",
        "t6dVpIINYklI",
        "ijmpgYnKYklI",
        "-JiQyfWJYklI",
        "EM7whBJCYoAo",
        "fge-S5ZAYoAp",
        "85gYPyotYoAp",
        "RoGjAbkUYoAp",
        "4Of9eVA-YrdM",
        "iky9q4vBYrdO",
        "F6T5p64dYrdO",
        "y-Ehk30pYrdP",
        "bamQiAODYuh1",
        "QHF8YVU7Yuh3",
        "GwzvFGzlYuh3",
        "qYpmQ266Yuh3",
        "OH-pJp9IphqM",
        "bbFf2-_FphqN",
        "_ouA3fa0phqN",
        "Seke61FWphqN",
        "PIIx-8_IphqN",
        "t27r6nlMphqO",
        "r2jJGEOYphqO",
        "b0JNsNcRphqO",
        "BZR9WyysphqO",
        "jj7wYXLtphqO",
        "eZrbJ2SmphqO",
        "rFu4xreNphqO",
        "YJ55k-q6phqO",
        "gCFgpxoyphqP",
        "OVtJsKN_phqQ",
        "lssrdh5qphqQ",
        "U2RJ9gkRphqQ",
        "1M8mcRywphqQ",
        "tgIPom80phqQ",
        "JMzcOPDDphqR",
        "x-EpHcCOp1ci",
        "X_VqEhTip1ck",
        "8zGJKyg5p1ck",
        "PVzmfK_Ep1ck",
        "n3dbpmDWp1ck",
        "ylSl6qgtp1ck",
        "ZWILFDl5p1ck",
        "M7G43BXep1ck",
        "Ag9LCva-p1cl",
        "E6MkPsBcp1cl",
        "2cELzS2fp1cl",
        "3MPXvC8up1cl",
        "NC_X3p0fY2L0",
        "UV0SzAkaZNRQ",
        "YPEH6qLeZNRQ",
        "q29F0dvdveiT",
        "EXh0U9oCveiU",
        "22aHeOlLveiV",
        "g-ATYxFrGrvw",
        "Yfr_Vlr8HBkt",
        "8yEUt7NnHlrM",
        "tEA2Xm5dHt1r",
        "I79__PHVH19G",
        "Ou-I18pAyIpj",
        "fF3858GYyt-u",
        "4_0_7-oCpUZd",
        "hwyV_J3ipUZe",
        "3yB-zSqbpUZe",
        "dEUvejAfpUZe",
        "Fd15vwWVpUZf",
        "bn_IUdTipZyH",
        "49K5P_iCpZyH",
        "Nff-vKELpZyI",
        "kLW572S8pZyI",
        "dWbDXHzopZyI",
        "yLjJCtPM0KBk",
        "xiyOF9F70UgQ",
        "7wuGOrhz0itI",
        "id1riN9m0vUs",
        "578E2V7j08f6",
        "89xtkJwZ18nB",
        "67NQN5KX2AMe",
        "Iwf50b-R2tYG",
        "GMQiZwjn3iu7",
        "WVIkgGqN3qsr",
        "XkPnILGE3zoT",
        "Hlsf0x5436Go",
        "mT9DMSJo4nBL",
        "c49ITxTc407N",
        "OeJFEK0N496M",
        "9ExmJH0g5HBk",
        "cJNqERVU536h",
        "k5UmGsbsOxih",
        "T0VqWOYE6DLQ",
        "qBMux9mC6MCf",
        "-oLEiFgy-5Pf",
        "C74aWNz2AliB",
        "2DejudWSA-a0",
        "pEMng2IbBLp7",
        "rAdphbQ9Bhjc",
        "TNVZ9zx19K6k",
        "nqoHp30x9hH9",
        "rMDnDkt2B6du",
        "yiiVWRdJDDil",
        "1UUpS68QDMuG",
        "kexQrXU-DjzY",
        "T5CmagL3EC8N",
        "BhH2vgX9EjGr",
        "qjKvONjwE8ra",
        "P1XJ9OREExlT",
        "VFOzZv6IFROw",
        "TIqpNgepFxVj",
        "VfCC591jGiD4",
        "OB4l2ZhMeS1U",
        "ArJBuiUVfxKd",
        "4qY1EAkEfxKe",
        "PiV4Ypx8fxKe",
        "TfvqoZmBfxKf",
        "dJ2tPlVmpsJ0",
        "JWYfwnehpsJ1",
        "-jK_YjpMpsJ2",
        "HAih1iBOpsJ2",
        "zVGeBEFhpsJ2",
        "bmKjuQ-FpsJ3",
        "Fze-IPXLpx6K",
        "7AN1z2sKpx6M",
        "9PIHJqyupx6M",
        "_-qAgymDpx6N",
        "Z-hykwinpx6N",
        "h_CCil-SKHpo",
        "cBFFvTBNJzUa",
        "HvGl1hHyA_VK",
        "EyNgTHvd2WFk",
        "KH5McJBi2d8v",
        "iW_Lq9qf2h6X",
        "-Kee-DAl2viO",
        "gCX9965dhzqZ",
        "gIfDvo9L0UH2"
      ],
      "include_colab_link": true
    },
    "kernelspec": {
      "name": "python3",
      "display_name": "Python 3"
    },
    "language_info": {
      "name": "python"
    },
    "gpuClass": "standard"
  },
  "cells": [
    {
      "cell_type": "markdown",
      "metadata": {
        "id": "view-in-github",
        "colab_type": "text"
      },
      "source": [
        "<a href=\"https://colab.research.google.com/github/vajahatmomin/Netflix-Movies-And-TV-Shows-Clustering-/blob/main/Netflix_Movies_And_TV_Shows_Clustering.ipynb\" target=\"_parent\"><img src=\"https://colab.research.google.com/assets/colab-badge.svg\" alt=\"Open In Colab\"/></a>"
      ]
    },
    {
      "cell_type": "markdown",
      "source": [
        "# **Project Name**    - **Netflix Movies And TV Shows Clustering**\n",
        "\n"
      ],
      "metadata": {
        "id": "vncDsAP0Gaoa"
      }
    },
    {
      "cell_type": "markdown",
      "source": [
        "##### **Project Type**    -Unsupervised ML\n",
        "##### **Contribution**    - Individual\n",
        "##### **Team Member**     -    **MOMIN VAJAHAT**"
      ],
      "metadata": {
        "id": "beRrZCGUAJYm"
      }
    },
    {
      "cell_type": "markdown",
      "source": [
        "***![images (3).jfif](data:image/jpeg;base64,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)***"
      ],
      "metadata": {
        "id": "ZJFrlCcwlQFn"
      }
    },
    {
      "cell_type": "markdown",
      "source": [
        "#**Project Summary -**"
      ],
      "metadata": {
        "id": "FJNUwmbgGyua"
      }
    },
    {
      "cell_type": "markdown",
      "source": [
        "This dataset consists of tv shows and movies available on Netflix as of 2019. The dataset is collected from Flixable which is a third-party Netflix search engine.\n",
        "\n",
        "In 2018, they released an interesting report which shows that the number of TV shows on Netflix has nearly tripled since 2010. The streaming service’s number of movies has decreased by more than 2,000 titles since 2010, while its number of TV shows has nearly tripled. It will be interesting to explore what all other insights can be obtained from the same dataset.\n",
        "\n",
        "In this project, we worked on a text clustering problem where we had to classify/group the Netflix movie/shows into certain clusters such that the shows within a cluster are similar to each other and the shows in different clusters are dissimilar to each other.\n",
        "\n",
        "The dataset contained about 7787 records, and 11 attributes.\n",
        "\n",
        "We began by dealing with the dataset's missing values and doing exploratory data analysis (EDA).\n",
        "\n",
        "Creating cluster using following attributes: director, cast, country, genre, rating and description. The values in these attributes were tokenized, preprocessed, and then vectorized using TFIDF vectorizer.\n",
        "\n",
        "We used Principal Component Analysis (PCA) to handle the curse of dimensionality.\n",
        "\n",
        "We built Two types of clusters using the K-Means Clustering and Agglomerative Heirachycal clustering algorithm and find out optimal number of clusters using diffrent technique such as elbow method, silhoutte score and dendogram etc.\n",
        "\n",
        "A content based recommender system was built using the similarity matrix obtained after using cosine similarity. This recommender system will make 10 recommendations to the user based on the type of show they watched.\n",
        "\n",
        "\n",
        "\n",
        "\n",
        "\n"
      ],
      "metadata": {
        "id": "F6v_1wHtG2nS"
      }
    },
    {
      "cell_type": "markdown",
      "source": [
        "# **GitHub Link -**  https://github.com/vajahatmomin/Netflix-Movies-And-TV-Shows-Clustering-"
      ],
      "metadata": {
        "id": "w6K7xa23Elo4"
      }
    },
    {
      "cell_type": "markdown",
      "source": [
        "# **Problem Statement**\n"
      ],
      "metadata": {
        "id": "yQaldy8SH6Dl"
      }
    },
    {
      "cell_type": "markdown",
      "source": [
        "Netflix is the world's largest online streaming service provider, with over 220 million subscribers as of 2022-Q2. It is crucial that they effectively cluster the shows that are hosted on their platform in order to enhance the user experience, thereby preventing subscriber churn.\n",
        "\n",
        "We will be able to understand the shows that are similar to and different from one another by creating clusters, which may be leveraged to offer the consumers personalized show suggestions depending on their preferences.\n",
        "\n",
        "The goal of this project is to classify/group the Netflix shows into certain clusters such that the shows within a cluster are similar to each other and the shows in different clusters are dissimilar to each other."
      ],
      "metadata": {
        "id": "a33jzb1rW0MN"
      }
    },
    {
      "cell_type": "markdown",
      "source": [
        "#**In this project, you are required to do**\n",
        "\n",
        "1. Exploratory Data Analysis\n",
        "\n",
        "2. Understanding what type content is available in different countries\n",
        "\n",
        "3. Is Netflix has increasingly focusing on TV rather than movies in recent years.\n",
        "\n",
        "4. Clustering similar content by matching text-based feature\n",
        "\n",
        "#**Attribute Information**\n",
        "\n",
        "1. Exploratory Data Analysis\n",
        "\n",
        "2. Understanding what type content is available in different countries\n",
        "\n",
        "3. Is Netflix has increasingly focusing on TV rather than movies in recent years.\n",
        "\n",
        "4. Clustering similar content by matching text-based feature\n",
        "\n",
        "#**Attribute Information**\n",
        "1. show_id : Unique ID for every Movie / Tv Show\n",
        "\n",
        "\n",
        "2. type : Identifier - A Movie or TV Show\n",
        "\n",
        "\n",
        "3. title : Title of the Movie / Tv Show\n",
        "\n",
        "\n",
        "4. director : Director of the Movie\n",
        "\n",
        "\n",
        "5. cast : Actors involved in the movie / show\n",
        "\n",
        "\n",
        "6. country : Country where the movie / show was produced\n",
        "\n",
        "\n",
        "7. date_added : Date it was added on Netflix\n",
        "\n",
        "\n",
        "8. release_year : Actual Releaseyear of the movie / show\n",
        "\n",
        "\n",
        "9. rating : TV Rating of the movie / show\n",
        "\n",
        "\n",
        "10. duration : Total Duration - in minutes or number of seasons\n",
        "\n",
        "\n",
        "11. listed_in : Genere\n",
        "\n",
        "\n",
        "12. description: The Summary description"
      ],
      "metadata": {
        "id": "DpeJGUA3kjGy"
      }
    },
    {
      "cell_type": "markdown",
      "source": [
        "#***Index***"
      ],
      "metadata": {
        "id": "f2vvcZoAW-ph"
      }
    },
    {
      "cell_type": "markdown",
      "source": [
        "1. Problem Statement\n",
        "2. Importing the Libraries and the Dataset\n",
        "3. Understanding Data\n",
        "4. Exploratory Data Analysis\n",
        "5. Data Cleaning\n",
        "6. Textual Data Preprocessing\n",
        "7. Clusters Impelementation\n",
        "8. Recommendation System.\n",
        "9. Conclusions"
      ],
      "metadata": {
        "id": "EtebyOR4XFK_"
      }
    },
    {
      "cell_type": "markdown",
      "source": [
        "# ***Let's Begin !***"
      ],
      "metadata": {
        "id": "O_i_v8NEhb9l"
      }
    },
    {
      "cell_type": "markdown",
      "source": [
        "## ***1. Know Your Data***"
      ],
      "metadata": {
        "id": "HhfV-JJviCcP"
      }
    },
    {
      "cell_type": "markdown",
      "source": [
        "### Import Libraries"
      ],
      "metadata": {
        "id": "Y3lxredqlCYt"
      }
    },
    {
      "cell_type": "code",
      "source": [
        "# library used for Analyzing and Visualization purpose\n",
        "import numpy as np\n",
        "import pandas as pd\n",
        "import seaborn as sns\n",
        "import matplotlib.pyplot as plt\n",
        "%matplotlib inline\n",
        "\n",
        "# Word Cloud library\n",
        "from wordcloud import WordCloud, STOPWORDS\n",
        "\n",
        "# library used for textual data prerocessing\n",
        "import string\n",
        "string.punctuation\n",
        "import nltk\n",
        "from nltk.corpus import stopwords\n",
        "nltk.download('stopwords')\n",
        "from nltk.stem.snowball import SnowballStemmer\n",
        "from sklearn.feature_extraction.text import CountVectorizer\n",
        "from sklearn.feature_extraction.text import TfidfVectorizer\n",
        "from sklearn.decomposition import PCA\n",
        "\n",
        "# library used for Clusters impelementation\n",
        "from sklearn.cluster import KMeans\n",
        "from sklearn.metrics import silhouette_score\n",
        "from sklearn.cluster import AgglomerativeClustering\n",
        "import scipy.cluster.hierarchy as shc\n",
        "\n",
        "# library used for building recommandation system\n",
        "from sklearn.feature_extraction.text import TfidfVectorizer\n",
        "from sklearn.metrics.pairwise import cosine_similarity\n",
        "\n",
        "# Warnings library. Would help to throw away warnings caused.\n",
        "import warnings\n",
        "warnings.filterwarnings('ignore')"
      ],
      "metadata": {
        "id": "PfIHX4FIzV0D"
      },
      "execution_count": null,
      "outputs": []
    },
    {
      "cell_type": "code",
      "source": [
        "#mounting the google drive to access the files"
      ],
      "metadata": {
        "id": "tCk_hpiVzeyL"
      },
      "execution_count": null,
      "outputs": []
    },
    {
      "cell_type": "code",
      "source": [
        "from google.colab import drive\n",
        "drive.mount('/content/drive')"
      ],
      "metadata": {
        "id": "DsHPOVovikf8"
      },
      "execution_count": null,
      "outputs": []
    },
    {
      "cell_type": "markdown",
      "source": [
        "### Dataset Loading"
      ],
      "metadata": {
        "id": "3RnN4peoiCZX"
      }
    },
    {
      "cell_type": "code",
      "source": [
        "# Load Dataset\n",
        "df=pd.read_csv('/content/drive/MyDrive/NETFLIX MOVIES AND TV SHOWS CLUSTERING/NETFLIX MOVIES AND TV SHOWS CLUSTERING.csv')\n",
        "#top 5 rows\n",
        "df.head()"
      ],
      "metadata": {
        "id": "4CkvbW_SlZ_R"
      },
      "execution_count": null,
      "outputs": []
    },
    {
      "cell_type": "code",
      "source": [
        "#last 5 rows\n",
        "df.tail()"
      ],
      "metadata": {
        "id": "LvEnuTuhlWQc"
      },
      "execution_count": null,
      "outputs": []
    },
    {
      "cell_type": "code",
      "source": [
        "# Checking the shape of the dataframe\n",
        "df.shape"
      ],
      "metadata": {
        "id": "LRRGx3jklb1h"
      },
      "execution_count": null,
      "outputs": []
    },
    {
      "cell_type": "code",
      "source": [
        "# Columns name\n",
        "df.columns"
      ],
      "metadata": {
        "id": "zU5Bm0Y4lfvG"
      },
      "execution_count": null,
      "outputs": []
    },
    {
      "cell_type": "markdown",
      "source": [
        "There are 12 columns\n",
        "\n"
      ],
      "metadata": {
        "id": "lAKRn-k_uQsO"
      }
    },
    {
      "cell_type": "code",
      "source": [
        "# Information about the dataset\n",
        "df.info()\n"
      ],
      "metadata": {
        "id": "ZSDzo0sJlkBT"
      },
      "execution_count": null,
      "outputs": []
    },
    {
      "cell_type": "markdown",
      "source": [
        "#**Data Processing**"
      ],
      "metadata": {
        "id": "x71ZqKXriCWQ"
      }
    },
    {
      "cell_type": "code",
      "source": [
        "#Drop duplicates \n",
        "df[df.duplicated()]"
      ],
      "metadata": {
        "id": "LWNFOSvLl09H"
      },
      "execution_count": null,
      "outputs": []
    },
    {
      "cell_type": "code",
      "source": [],
      "metadata": {
        "id": "_QHXrT8-aZUk"
      },
      "execution_count": null,
      "outputs": []
    },
    {
      "cell_type": "markdown",
      "source": [
        "There are no duplicated values\n",
        "\n"
      ],
      "metadata": {
        "id": "8OBvnG9jmSmS"
      }
    },
    {
      "cell_type": "markdown",
      "source": [
        "**Handling Null values**\n",
        "\n"
      ],
      "metadata": {
        "id": "7hBIi_osiCS2"
      }
    },
    {
      "cell_type": "code",
      "source": [
        "#Checking Null Values\n",
        "df.isnull().sum()"
      ],
      "metadata": {
        "id": "Kllu7SJgmLij"
      },
      "execution_count": null,
      "outputs": []
    },
    {
      "cell_type": "code",
      "source": [
        "#total null values\n",
        "df.isnull().sum().sum()"
      ],
      "metadata": {
        "id": "e9hRXRi6meOf"
      },
      "execution_count": null,
      "outputs": []
    },
    {
      "cell_type": "code",
      "source": [
        "# Missing Values Percentage\n",
        "round(df.isna().sum()/len(df)*100, 2)"
      ],
      "metadata": {
        "id": "le-GXNcxbBjl"
      },
      "execution_count": null,
      "outputs": []
    },
    {
      "cell_type": "code",
      "source": [
        "# Visualizing the missing values\n",
        "import missingno as msno\n",
        "msno.bar(df, figsize=(10,5), fontsize=12)"
      ],
      "metadata": {
        "id": "PBTSF18BbKk_"
      },
      "execution_count": null,
      "outputs": []
    },
    {
      "cell_type": "code",
      "source": [
        "# Visualizing the missing values using Heatmap\n",
        "plt.figure(figsize=(10,5))\n",
        "sns.heatmap(df.isna())"
      ],
      "metadata": {
        "id": "LkNdixI7bPRh"
      },
      "execution_count": null,
      "outputs": []
    },
    {
      "cell_type": "markdown",
      "source": [
        "* NaN values present in the director, cast, country, date_added and rating column.\n",
        "\n",
        "* All the data that we have is related to each specific movie. So, we can't impute any null values with using any method. Also we don't want to loose any data since the data size is small for that reason we simply impute nan values with empty string in below procedure after analyzing each columns."
      ],
      "metadata": {
        "id": "2G_UVVmxbUKP"
      }
    },
    {
      "cell_type": "markdown",
      "source": [
        "#***3. Understanding Attributes***\n"
      ],
      "metadata": {
        "id": "GybqyH3Pb8x_"
      }
    },
    {
      "cell_type": "markdown",
      "source": [
        "#***Attribute Information***"
      ],
      "metadata": {
        "id": "58T5oIIocCxt"
      }
    },
    {
      "cell_type": "markdown",
      "source": [
        "* **show_id** : Unique ID for every Movie/Show\n",
        "* **type** : Identifier - Movie/Show\n",
        "* **title** : Title of the Movie/Show\n",
        "* **director** : Director of the Movie/Show\n",
        "* **cast** : Actors involved in the Movie/Show\n",
        "* **country** : Country where the Movie/Show was produced\n",
        "* **date_added** : Date it was added on Netflix\n",
        "* **release_year** : Actual Release year of the Movie/Show\n",
        "* **rating** : TV Rating of the Movie/Show\n",
        "* **duration** : Total Duration - in minutes or number of seasons\n",
        "* **listed_in** : Genre\n",
        "* **description**: The Summary description"
      ],
      "metadata": {
        "id": "gI5pB4jacLNm"
      }
    },
    {
      "cell_type": "markdown",
      "source": [
        "#**Attributes Name**\n"
      ],
      "metadata": {
        "id": "wgLaJhi2crrT"
      }
    },
    {
      "cell_type": "code",
      "source": [
        "# Dataset Columns\n",
        "df.columns"
      ],
      "metadata": {
        "id": "JpTtHBNmcyz3"
      },
      "execution_count": null,
      "outputs": []
    },
    {
      "cell_type": "markdown",
      "source": [
        "#***Statistical Summary***"
      ],
      "metadata": {
        "id": "iglmU-ZPc4vA"
      }
    },
    {
      "cell_type": "code",
      "source": [
        "# Dataset Describe\n",
        "df.describe(include='all').transpose()"
      ],
      "metadata": {
        "id": "ZndUBPPHc_je"
      },
      "execution_count": null,
      "outputs": []
    },
    {
      "cell_type": "markdown",
      "source": [
        "#**Counting unique value**\n"
      ],
      "metadata": {
        "id": "RPukxot2dDB8"
      }
    },
    {
      "cell_type": "code",
      "source": [
        "# Check Unique Values for each variable.\n",
        "for i in df.columns:\n",
        "  print(f'number of unique values in {i} column : {df[i].nunique()}    \\nunique values :\\n{df[i].unique()}')\n",
        "  print('='*150)"
      ],
      "metadata": {
        "id": "Bvu8D16_dISi"
      },
      "execution_count": null,
      "outputs": []
    },
    {
      "cell_type": "markdown",
      "source": [
        "* After analysing dataset we are more focusing toward 'type', 'title', 'director', 'cast', 'country', 'rating', 'listed_in', 'description' columns and these column carry a lots of information.\n",
        "* We are building our model on the top of mentioned features where those feature are used to create one cluster column to implement K-means, Hierarchical clustering and building content based recommandation system as well."
      ],
      "metadata": {
        "id": "XfY-AsNOdORi"
      }
    },
    {
      "cell_type": "markdown",
      "source": [
        "#**4. EDA**\n"
      ],
      "metadata": {
        "id": "adzbe9e0dUNb"
      }
    },
    {
      "cell_type": "markdown",
      "source": [
        "Exploratory Data Analysis (EDA) is the very first step before you can perform any changes to the dataset or develop a statistical model to answer business problems. In other words, the process of EDA contains summarizing, visualizing and getting deeply acquainted with the important traits of a data set.\n",
        "\n"
      ],
      "metadata": {
        "id": "H7TH27NYdZXp"
      }
    },
    {
      "cell_type": "markdown",
      "source": [
        "#**4.1. Type column**\n"
      ],
      "metadata": {
        "id": "6s6zbeYMdb8H"
      }
    },
    {
      "cell_type": "code",
      "source": [
        "# number of unique values\n",
        "df['type'].nunique()"
      ],
      "metadata": {
        "id": "VRVtN7Kedf7g"
      },
      "execution_count": null,
      "outputs": []
    },
    {
      "cell_type": "code",
      "source": [
        "fig,ax = plt.subplots(1,2, figsize=(14,5))\n",
        "\n",
        "# coutplot\n",
        "graph = sns.countplot(x=df['type'], ax=ax[0])\n",
        "graph.set_title('Values Count', size=18)\n",
        "# adding value count on the top of bar\n",
        "for p in graph.patches:  #adding value count on the top of bar\n",
        "   graph.annotate(format(p.get_height(), '.0f'), (p.get_x(), p.get_height()))\n",
        "\n",
        "# piechart\n",
        "df['type'].value_counts().plot(kind='pie', autopct='%1.2f%%', ax=ax[1])\n",
        "plt.title('Percentage Distribution', size=18)\n",
        "\n",
        "plt.tight_layout()\n",
        "plt.show()"
      ],
      "metadata": {
        "id": "xCwh1NPLdiUH"
      },
      "execution_count": null,
      "outputs": []
    },
    {
      "cell_type": "markdown",
      "source": [
        "**2.ratings**\n",
        "\n"
      ],
      "metadata": {
        "id": "c5f-mtSh-aPQ"
      }
    },
    {
      "cell_type": "code",
      "source": [
        "df['rating']"
      ],
      "metadata": {
        "id": "0MZsyJWU-YR2"
      },
      "execution_count": null,
      "outputs": []
    },
    {
      "cell_type": "code",
      "source": [
        "#Assigning the Ratings into grouped categories\n",
        "ratings = {\n",
        "    'TV-PG': 'Older Kids',\n",
        "    'TV-MA': 'Adults',\n",
        "    'TV-Y7-FV': 'Older Kids',\n",
        "    'TV-Y7': 'Older Kids',\n",
        "    'TV-14': 'Teens',\n",
        "    'R': 'Adults',\n",
        "    'TV-Y': 'Kids',\n",
        "    'NR': 'Adults',\n",
        "    'PG-13': 'Teens',\n",
        "    'TV-G': 'Kids',\n",
        "    'PG': 'Older Kids',\n",
        "    'G': 'Kids',\n",
        "    'UR': 'Adults',\n",
        "    'NC-17': 'Adults'\n",
        "}\n",
        "df['target_ages'] = df['rating'].replace(ratings)\n"
      ],
      "metadata": {
        "id": "EZ8GJJ8W-YjW"
      },
      "execution_count": null,
      "outputs": []
    },
    {
      "cell_type": "code",
      "source": [
        "# type should be a catego\n",
        "df['type'] = pd.Categorical(df['type'])\n",
        "df['target_ages'] = pd.Categorical(df['target_ages'], categories=['Kids', 'Older Kids', 'Teens', 'Adults'])"
      ],
      "metadata": {
        "id": "i-4feORx-Ym4"
      },
      "execution_count": null,
      "outputs": []
    },
    {
      "cell_type": "code",
      "source": [
        "df\n"
      ],
      "metadata": {
        "id": "MX0eKMER_Ejo"
      },
      "execution_count": null,
      "outputs": []
    },
    {
      "cell_type": "code",
      "source": [
        "#creating two extra columns\n",
        "tv_shows=df[df['type']=='TV Show']\n",
        "movies=df[df['type']=='Movie']"
      ],
      "metadata": {
        "id": "r2jkvvBW_S5_"
      },
      "execution_count": null,
      "outputs": []
    },
    {
      "cell_type": "code",
      "source": [
        "#Rating based on rating system of all TV Shows\n",
        "tv_ratings = tv_shows.groupby(['rating'])['show_id'].count().reset_index(name='count').sort_values(by='count',ascending=False)\n",
        "fig_dims = (14,7)\n",
        "fig, ax = plt.subplots(figsize=fig_dims)  \n",
        "sns.pointplot(x='rating',y='count',data=tv_ratings)\n",
        "plt.title('TV Show Ratings',size='20')\n",
        "plt.show()"
      ],
      "metadata": {
        "id": "eOx6qJ-q_Eli"
      },
      "execution_count": null,
      "outputs": []
    },
    {
      "cell_type": "markdown",
      "source": [
        "TV-MA has the highest number of ratings for tv shows i,e adult ratings\n",
        "\n"
      ],
      "metadata": {
        "id": "kbKvM0OY_XwS"
      }
    },
    {
      "cell_type": "code",
      "source": [
        "#Movie Ratings based on Target Age Groups\n",
        "plt.figure(figsize=(14,6))\n",
        "plt.title('movie ratings')\n",
        "sns.countplot(x=movies['rating'],hue=movies['target_ages'],data=movies,order=movies['rating'].value_counts().index)"
      ],
      "metadata": {
        "id": "ivYQX7i9_KJB"
      },
      "execution_count": null,
      "outputs": []
    },
    {
      "cell_type": "markdown",
      "source": [
        "TV-MA has the highest number of ratings for tv shows i,e adult ratings in both the cases TV-MA has the highest number of ratings\n",
        "\n"
      ],
      "metadata": {
        "id": "9fWGicwe_dry"
      }
    },
    {
      "cell_type": "markdown",
      "source": [
        "***3.Release_year***\n",
        "\n"
      ],
      "metadata": {
        "id": "Bwl_Tic0_f4c"
      }
    },
    {
      "cell_type": "code",
      "source": [
        "movies_year =movies['release_year'].value_counts().sort_index(ascending=False)\n"
      ],
      "metadata": {
        "id": "I7fl-nh7_KMi"
      },
      "execution_count": null,
      "outputs": []
    },
    {
      "cell_type": "code",
      "source": [
        "movies_year\n"
      ],
      "metadata": {
        "id": "wPN5pgDA_bT1"
      },
      "execution_count": null,
      "outputs": []
    },
    {
      "cell_type": "code",
      "source": [
        "tvshows_year =tv_shows['release_year'].value_counts().sort_index(ascending=False)\n"
      ],
      "metadata": {
        "id": "ew3XvUsw_ohG"
      },
      "execution_count": null,
      "outputs": []
    },
    {
      "cell_type": "code",
      "source": [
        "# visualizing the movies and tv_shows based on the release year\n",
        "sns.set(font_scale=1.4)\n",
        "movies_year.plot(figsize=(12, 8), linewidth=2.5, color='maroon',label=\"Movies / year\",ms=3)\n",
        "tvshows_year.plot(figsize=(12, 8), linewidth=2.5, color='blue',label=\"TV Shows / year\")\n",
        "plt.xlabel(\"Years\", labelpad=15)\n",
        "plt.ylabel(\"Number\", labelpad=15)\n",
        "plt.title(\"Production growth yearly\", y=1.02, fontsize=22);"
      ],
      "metadata": {
        "id": "Iql4BLBd_ojw"
      },
      "execution_count": null,
      "outputs": []
    },
    {
      "cell_type": "code",
      "source": [
        "#Analysing how many movies released per year in last 20 years\n",
        "plt.figure(figsize=(15,5))\n",
        "sns.countplot(y=movies['release_year'],data=df,order=movies['release_year'].value_counts().index[0:20])"
      ],
      "metadata": {
        "id": "7g3AAG7D_oly"
      },
      "execution_count": null,
      "outputs": []
    },
    {
      "cell_type": "markdown",
      "source": [
        "highest number of movies released in 2017 and 2018\n",
        "\n"
      ],
      "metadata": {
        "id": "00wBvuQg_wD5"
      }
    },
    {
      "cell_type": "code",
      "source": [
        "tvshows_year"
      ],
      "metadata": {
        "id": "lriPcFiZ_oqK"
      },
      "execution_count": null,
      "outputs": []
    },
    {
      "cell_type": "code",
      "source": [
        "#Analysing how many movies released per year in last 15 years\n",
        "plt.figure(figsize=(15,5))\n",
        "sns.countplot(y=tv_shows['release_year'],data=df,order=tv_shows['release_year'].value_counts().index[0:20])"
      ],
      "metadata": {
        "id": "RN7i_q3H_y93"
      },
      "execution_count": null,
      "outputs": []
    },
    {
      "cell_type": "markdown",
      "source": [
        "* Highest number of movies released in 2017 and 2018\n",
        "* Highest number of movies released in 2020\n",
        "* The number of movies on Netflix is growing significantly faster than the number of TV shows.\n",
        "* We saw a huge increase in the number of movies and television episodes after 2015.\n",
        "* There is a significant drop in the number of movies and television episodes produced after 2020.\n",
        "* It appears that Netflix has focused more attention on increasing Movie content that TV Shows. Movies have increased much more dramatically than TV shows."
      ],
      "metadata": {
        "id": "XAvYDJ-f_5xP"
      }
    },
    {
      "cell_type": "code",
      "source": [
        "df\n"
      ],
      "metadata": {
        "id": "1bCGqu3t_zBU"
      },
      "execution_count": null,
      "outputs": []
    },
    {
      "cell_type": "code",
      "source": [
        "#adding columns of month and year of addition\n",
        "\n",
        "df['month'] = pd.DatetimeIndex(df['date_added']).month\n",
        "df.head()"
      ],
      "metadata": {
        "id": "kN6LFxPn_zEA"
      },
      "execution_count": null,
      "outputs": []
    },
    {
      "cell_type": "code",
      "source": [
        "fig, ax = plt.subplots(figsize=(15,6))\n",
        "\n",
        "sns.countplot(x='month', hue='type',lw=5, data=df, ax=ax)"
      ],
      "metadata": {
        "id": "tAi-octC_bWy"
      },
      "execution_count": null,
      "outputs": []
    },
    {
      "cell_type": "markdown",
      "source": [
        "The above graph shows that the most content is added to Netflix from october to january\n",
        "\n"
      ],
      "metadata": {
        "id": "sgSdfopsAopt"
      }
    },
    {
      "cell_type": "markdown",
      "source": [
        "**5.genre**\n",
        "\n"
      ],
      "metadata": {
        "id": "SIO6LolKAtAd"
      }
    },
    {
      "cell_type": "code",
      "source": [
        "#Analysing top10 genre of the movies\n",
        "plt.figure(figsize=(14,6))\n",
        "plt.title('Top10 Genre of Movies',fontweight=\"bold\")\n",
        "sns.countplot(y=movies['listed_in'],data=movies,order=movies['listed_in'].value_counts().index[0:10])"
      ],
      "metadata": {
        "id": "045cfoMG_bbw"
      },
      "execution_count": null,
      "outputs": []
    },
    {
      "cell_type": "markdown",
      "source": [
        "Documentaries are the top most genre in netflix which is fllowed by standup comedy and Drams and international movies\n",
        "\n"
      ],
      "metadata": {
        "id": "NDMZb3imAyWD"
      }
    },
    {
      "cell_type": "code",
      "source": [
        "#Analysing top10 genres of TVSHOWS\n",
        "plt.figure(figsize=(14,6))\n",
        "plt.title('Top10 Genre of TV Shows',fontweight=\"bold\")\n",
        "sns.countplot(y=tv_shows['listed_in'],data=tv_shows,order=tv_shows['listed_in'].value_counts().index[0:10])"
      ],
      "metadata": {
        "id": "1I_2_DzL_beD"
      },
      "execution_count": null,
      "outputs": []
    },
    {
      "cell_type": "markdown",
      "source": [
        "kids tv is the top most TV show genre in netflix\n",
        "\n"
      ],
      "metadata": {
        "id": "ji0jHd_KA12M"
      }
    },
    {
      "cell_type": "markdown",
      "source": [
        "**6.Duration**\n",
        "\n"
      ],
      "metadata": {
        "id": "LH7223-gA4wW"
      }
    },
    {
      "cell_type": "code",
      "source": [
        "#Checking the distribution of Movie Durations\n",
        "plt.figure(figsize=(10,7))\n",
        "#Regular Expression pattern \\d is a regex pattern for digit + is a regex pattern for at leas\n",
        "sns.distplot(movies['duration'].str.extract('(\\d+)'),kde=False, color=['red'])\n",
        "plt.title('Distplot with Normal distribution for Movies',fontweight=\"bold\")\n",
        "plt.show()"
      ],
      "metadata": {
        "id": "vxlkF5_7_KPQ"
      },
      "execution_count": null,
      "outputs": []
    },
    {
      "cell_type": "markdown",
      "source": [
        "most of the movies have duration of between 50 to 150\n",
        "\n"
      ],
      "metadata": {
        "id": "3lMZLaDDBBgE"
      }
    },
    {
      "cell_type": "code",
      "source": [
        "#Checking the distribution of TV SHOWS\n",
        "plt.figure(figsize=(30,6))\n",
        "plt.title(\"Distribution of TV Shows duration\",fontweight='bold')\n",
        "sns.countplot(x=tv_shows['duration'],data=tv_shows,order = tv_shows['duration'].value_counts().index)"
      ],
      "metadata": {
        "id": "J-XbMMXp-Yp1"
      },
      "execution_count": null,
      "outputs": []
    },
    {
      "cell_type": "markdown",
      "source": [
        "highest number of tv_shows consistig of single season\n",
        "\n"
      ],
      "metadata": {
        "id": "0moVXbnnBHzJ"
      }
    },
    {
      "cell_type": "code",
      "source": [
        "movies['minute'] = movies['duration'].str.extract('(\\d+)').apply(pd.to_numeric)\n",
        "duration_year = movies.groupby(['rating'])['minute'].mean()\n",
        "duration_df=pd.DataFrame(duration_year).sort_values('minute')\n",
        "plt.figure(figsize=(12,6))\n",
        "ax=sns.barplot(x=duration_df.index, y=duration_df.minute)"
      ],
      "metadata": {
        "id": "-nFTTupn-Yt3"
      },
      "execution_count": null,
      "outputs": []
    },
    {
      "cell_type": "markdown",
      "source": [
        "Those movies that have a rating of NC-17 have the longest average duration.\n",
        "\n",
        "When it comes to movies having a TV-Y rating, they have the shortest runtime on average\n",
        "\n",
        "\n",
        "**7.country**"
      ],
      "metadata": {
        "id": "BFL9BvC6BQUZ"
      }
    },
    {
      "cell_type": "code",
      "source": [
        "#Analysing top15 countries with most content \n",
        "plt.figure(figsize=(18,5))\n",
        "sns.countplot(x=df['country'],order=df['country'].value_counts().index[0:15],hue=df['type'])\n",
        "plt.xticks(rotation=50)\n",
        "plt.title('Top 15 countries with most contents', fontsize=15, fontweight='bold')\n",
        "plt.show()"
      ],
      "metadata": {
        "id": "kBkHDAEV-Yxf"
      },
      "execution_count": null,
      "outputs": []
    },
    {
      "cell_type": "markdown",
      "source": [
        "unitated states has the highest number of content on the netflix ,followed by india\n",
        "\n"
      ],
      "metadata": {
        "id": "4JQ_EmvkBjU3"
      }
    },
    {
      "cell_type": "code",
      "source": [
        "#top_two countries where netflix is most popular\n",
        "country=df['country'].value_counts().reset_index()\n",
        "country\n"
      ],
      "metadata": {
        "id": "sUEh7U-3-Y1m"
      },
      "execution_count": null,
      "outputs": []
    },
    {
      "cell_type": "code",
      "source": [
        "# Plotting the Horizontal bar plot for top 10 country contains Movie & TV Show split\n",
        "country_order = df['country'].value_counts()[:11].index\n",
        "content_data = df[['type', 'country']].groupby('country')['type'].value_counts().unstack().loc[country_order]\n",
        "content_data['sum'] = content_data.sum(axis=1)\n",
        "content_data_ratio = (content_data.T / content_data['sum']).T[['Movie', 'TV Show']].sort_values(by='Movie',ascending=False)[::-1]\n",
        "\n",
        "# Plotting the barh\n",
        "fig, ax = plt.subplots(1,1,figsize=(15, 8),)\n",
        "\n",
        "ax.barh(content_data_ratio.index, content_data_ratio['Movie'], \n",
        "        color='crimson', alpha=0.8, label='Movie')\n",
        "ax.barh(content_data_ratio.index, content_data_ratio['TV Show'], left=content_data_ratio['Movie'], \n",
        "        color='black', alpha=0.8, label='TV Show')"
      ],
      "metadata": {
        "id": "79U1eiMs-Y3p"
      },
      "execution_count": null,
      "outputs": []
    },
    {
      "cell_type": "markdown",
      "source": [
        "India has highest number of movies in netflix\n",
        "\n"
      ],
      "metadata": {
        "id": "17oAhPBZBwhI"
      }
    },
    {
      "cell_type": "code",
      "source": [
        "# Preparing data for heatmap\n",
        "df['count'] = 1\n",
        "data = df.groupby('country')[['country','count']].sum().sort_values(by='count',ascending=False).reset_index()[:10]\n",
        "data = data['country']\n",
        "\n",
        "\n",
        "df_heatmap = df.loc[df['country'].isin(data)]\n",
        "df_heatmap = pd.crosstab(df_heatmap['country'],df_heatmap['target_ages'],normalize = \"index\").T\n",
        "df_heatmap"
      ],
      "metadata": {
        "id": "JaIxcfX1ByqG"
      },
      "execution_count": null,
      "outputs": []
    },
    {
      "cell_type": "code",
      "source": [
        "# Plotting the heatmap\n",
        "fig, ax = plt.subplots(1, 1, figsize=(12, 12))\n",
        "\n",
        "country_order2 = ['United States', 'India', 'United Kingdom', 'Canada', 'Japan', 'France', 'South Korea', 'Spain',\n",
        "       'Mexico']\n",
        "\n",
        "age_order = ['Adults', 'Teens', 'Older Kids', 'Kids']\n",
        "\n",
        "sns.heatmap(df_heatmap.loc[age_order,country_order2],cmap=\"YlGnBu\",square=True, linewidth=2.5,cbar=False,\n",
        "            annot=True,fmt='1.0%',vmax=.6,vmin=0.05,ax=ax,annot_kws={\"fontsize\":12})\n",
        "plt.show()"
      ],
      "metadata": {
        "id": "Robt-X45Bysl"
      },
      "execution_count": null,
      "outputs": []
    },
    {
      "cell_type": "markdown",
      "source": [
        "The US and UK are closely aligned with their Netflix target ages, but radically different from, example, India or Japan!\n",
        "\n",
        "Also, Mexico and Spain have similar content on Netflix for different age groups.\n",
        "\n",
        "**8.Originals**"
      ],
      "metadata": {
        "id": "pIEvJtvqB77Q"
      }
    },
    {
      "cell_type": "code",
      "source": [
        "df['date_added'] = pd.to_datetime(df['date_added'])\n",
        "movies['year_added'] = df['date_added'].dt.year\n",
        "df"
      ],
      "metadata": {
        "id": "7j8iDlciByue"
      },
      "execution_count": null,
      "outputs": []
    },
    {
      "cell_type": "markdown",
      "source": [
        "Some movies and TV shows were actually released in the past and they were added later on Netflix. But some movies and TV shows were released on Netflix itself. Named those as Netflix Originals.\n",
        "\n"
      ],
      "metadata": {
        "id": "kgJHPyyQCD3b"
      }
    },
    {
      "cell_type": "code",
      "source": [
        "movies['originals'] = np.where(movies['release_year'] == movies['year_added'], 'Yes', 'No')\n",
        "# pie plot showing percentage of originals and others in movies\n",
        "fig, ax = plt.subplots(figsize=(5,5),facecolor=\"#363336\")\n",
        "ax.patch.set_facecolor('#363336')\n",
        "explode = (0, 0.1)\n",
        "ax.pie(movies['originals'].value_counts(), explode=explode, autopct='%.2f%%', labels= ['Others', 'Originals'],\n",
        "       shadow=True, startangle=90,textprops={'color':\"black\", 'fontsize': 20}, colors =['red','#F5E9F5'])"
      ],
      "metadata": {
        "id": "uys8ewOdBywu"
      },
      "execution_count": null,
      "outputs": []
    },
    {
      "cell_type": "markdown",
      "source": [
        "30% movies released on Netflix. 70% movies added on Netflix were released earlier by different mode.\n",
        "\n"
      ],
      "metadata": {
        "id": "jArRXTc_CTVW"
      }
    },
    {
      "cell_type": "markdown",
      "source": [
        "#***Making some hypothesis***\n"
      ],
      "metadata": {
        "id": "rbslYyCLCXcZ"
      }
    },
    {
      "cell_type": "markdown",
      "source": [
        "**1.HYPOTHESIS TESTING**\n",
        "\n"
      ],
      "metadata": {
        "id": "daYKXQxqCdSq"
      }
    },
    {
      "cell_type": "markdown",
      "source": [
        "HO:movies rated for kids and older kids are at least two hours long.\n",
        "\n",
        "H1:movies rated for kids and older kids are not at least two hours long."
      ],
      "metadata": {
        "id": "P3cOntewCdVU"
      }
    },
    {
      "cell_type": "code",
      "source": [
        "movies"
      ],
      "metadata": {
        "id": "Eb8C_lCRBzDl"
      },
      "execution_count": null,
      "outputs": []
    },
    {
      "cell_type": "code",
      "source": [
        "#making copy of df_clean_frame\n",
        "df_hypothesis=df.copy()\n",
        "#head of df_hypothesis\n",
        "df_hypothesis.head()"
      ],
      "metadata": {
        "id": "wauBSDtKBzGF"
      },
      "execution_count": null,
      "outputs": []
    },
    {
      "cell_type": "code",
      "source": [
        "#filtering movie from Type_of_show column\n",
        "df_hypothesis = df_hypothesis[df_hypothesis[\"type\"] == \"Movie\"]"
      ],
      "metadata": {
        "id": "AcdPfQ7_BzLF"
      },
      "execution_count": null,
      "outputs": []
    },
    {
      "cell_type": "code",
      "source": [
        "#with respect to each ratings assigning it into group of categories                 \n",
        "ratings_ages = {\n",
        "    'TV-PG': 'Older Kids',\n",
        "    'TV-MA': 'Adults',\n",
        "    'TV-Y7-FV': 'Older Kids',\n",
        "    'TV-Y7': 'Older Kids',\n",
        "    'TV-14': 'Teens',\n",
        "    'R': 'Adults',\n",
        "    'TV-Y': 'Kids',\n",
        "    'NR': 'Adults',\n",
        "    'PG-13': 'Teens',\n",
        "    'TV-G': 'Kids',\n",
        "    'PG': 'Older Kids',\n",
        "    'G': 'Kids',\n",
        "    'UR': 'Adults',\n",
        "    'NC-17': 'Adults'\n",
        "}\n",
        "\n",
        "df_hypothesis['target_ages'] = df_hypothesis['rating'].replace(ratings_ages)\n",
        "#let's see unique target ages \n",
        "df_hypothesis['target_ages'].unique()"
      ],
      "metadata": {
        "id": "0Of3UlLoBzNV"
      },
      "execution_count": null,
      "outputs": []
    },
    {
      "cell_type": "code",
      "source": [
        "#Another category is target_ages (4 classes).\n",
        "df_hypothesis['target_ages'] = pd.Categorical(df_hypothesis['target_ages'], categories=['Kids', 'Older Kids', 'Teens', 'Adults'])\n",
        "#from duration feature extractin string part and after extracting Changing the object type to numeric\n",
        "df_hypothesis['duration']= df_hypothesis['duration'].str.extract('(\\d+)')\n",
        "df_hypothesis['duration'] = pd.to_numeric(df_hypothesis['duration'])\n",
        "#head of df_\n",
        "df_hypothesis.head(3)"
      ],
      "metadata": {
        "id": "w8_KN7MHCwTJ"
      },
      "execution_count": null,
      "outputs": []
    },
    {
      "cell_type": "code",
      "source": [
        "#group_by duration and target_ages                 \n",
        "group_by_= df_hypothesis[['duration','target_ages']].groupby(by='target_ages')\n",
        "#mean of group_by variable\n",
        "group=group_by_.mean().reset_index()\n",
        "group"
      ],
      "metadata": {
        "id": "NpJFWkJHCwVU"
      },
      "execution_count": null,
      "outputs": []
    },
    {
      "cell_type": "code",
      "source": [
        "#In A and B variable grouping values \n",
        "A= group_by_.get_group('Kids')\n",
        "B= group_by_.get_group('Older Kids')\n",
        "#mean and std. calutation for kids and older kids variables\n",
        "M1 = A.mean()\n",
        "S1 = A.std()\n",
        "\n",
        "M2= B.mean()\n",
        "S2 = B.std()\n",
        "\n",
        "print('Mean for movies rated for Kids {} \\n Mean for  movies rated for older kids {}'.format(M1,M2))\n",
        "print('Std for  movies rated for Older Kids {} \\n Std for  movies rated for kids {}'.format(S2,S1))"
      ],
      "metadata": {
        "id": "hbLldGJNCwcD"
      },
      "execution_count": null,
      "outputs": []
    },
    {
      "cell_type": "code",
      "source": [
        "#import stats \n",
        "from scipy import stats\n",
        "#length of groups and DOF\n",
        "n1 = len(A)\n",
        "n2= len(B)\n",
        "print(n1,n2)\n",
        "\n",
        "dof = n1+n2-2\n",
        "print('dof',dof)\n",
        "\n",
        "sp_2 = ((n2-1)*S1**2  + (n1-1)*S2**2) / dof\n",
        "print('SP_2 =',sp_2)\n",
        "\n",
        "sp = np.sqrt(sp_2)\n",
        "print('SP',sp)\n",
        "\n",
        "#tvalue\n",
        "t_val = (M1-M2)/(sp * np.sqrt(1/n1 + 1/n2))\n",
        "print('tvalue',t_val[0])"
      ],
      "metadata": {
        "id": "dP40WhsFC_lO"
      },
      "execution_count": null,
      "outputs": []
    },
    {
      "cell_type": "code",
      "source": [
        "#t-distribution\n",
        "stats.t.ppf(0.025,dof)\n"
      ],
      "metadata": {
        "id": "RlHGHBDKC_pb"
      },
      "execution_count": null,
      "outputs": []
    },
    {
      "cell_type": "code",
      "source": [
        "#t-distribution\n",
        "stats.t.ppf(0.975,dof)"
      ],
      "metadata": {
        "id": "90UIEm9ZC_sn"
      },
      "execution_count": null,
      "outputs": []
    },
    {
      "cell_type": "markdown",
      "source": [
        "Because the t-value is not in the range, the null hypothesis is rejected.\n",
        "\n",
        "As a result, movies rated for kids and older kids are not at least two hours long.\n",
        "\n",
        "**2. HYPOTHESIS TESTING**\n",
        "\n",
        "* H1:The duration which is more than 90 mins are movies\n",
        "\n",
        "* HO:The duration which is more than 90 mins are NOT movies"
      ],
      "metadata": {
        "id": "YcJU4CuWDKuQ"
      }
    },
    {
      "cell_type": "code",
      "source": [
        "#making copy of df_clean_frame\n",
        "df_hypothesis=df.copy()\n",
        "#head of df_hypothesis\n",
        "df_hypothesis.head()"
      ],
      "metadata": {
        "id": "pIn0ZjVxC_w2"
      },
      "execution_count": null,
      "outputs": []
    },
    {
      "cell_type": "code",
      "source": [
        "df_hypothesis['duration']= df_hypothesis['duration'].str.extract('(\\d+)')\n",
        "df_hypothesis['duration'] = pd.to_numeric(df_hypothesis['duration'])\n",
        "#head of df_"
      ],
      "metadata": {
        "id": "7CsHf_cXDc_o"
      },
      "execution_count": null,
      "outputs": []
    },
    {
      "cell_type": "code",
      "source": [
        "df_hypothesis['type'] = pd.Categorical(df_hypothesis['type'], categories=['Movie','TV Show'])\n",
        "#from duration feature extractin string part and after extracting Changing the object type to numeric\n",
        "#df_hypothesis['duration']= df_hypothesis['duration'].str.extract('(\\d+)')\n",
        "#df_hypothesis['duration'] = pd.to_numeric(df_hypothesis['duration'])\n",
        "#head of df_\n",
        "df_hypothesis.head(3)"
      ],
      "metadata": {
        "id": "QideGj8nDdB3"
      },
      "execution_count": null,
      "outputs": []
    },
    {
      "cell_type": "code",
      "source": [
        "#group_by duration and TYPE                 \n",
        "group_by_= df_hypothesis[['duration','type']].groupby(by='type')\n",
        "#mean of group_by variable\n",
        "group=group_by_.mean().reset_index()\n",
        "group"
      ],
      "metadata": {
        "id": "03aZTpfkDdFr"
      },
      "execution_count": null,
      "outputs": []
    },
    {
      "cell_type": "code",
      "source": [
        "#In A and B variable grouping values \n",
        "A= group_by_.get_group('Movie')\n",
        "B= group_by_.get_group('TV Show')\n",
        "#mean and std\n",
        "M1 = A.mean()\n",
        "S1 = A.std()\n",
        "\n",
        "M2= B.mean()\n",
        "S2 = B.std()\n",
        "\n",
        "print('Mean  {}'.format(M1,M2))\n",
        "print('Std  {}'.format(S2,S1))"
      ],
      "metadata": {
        "id": "blinBEyiDdIU"
      },
      "execution_count": null,
      "outputs": []
    },
    {
      "cell_type": "code",
      "source": [
        "\n",
        "#import stats \n",
        "from scipy import stats\n",
        "#length of groups and DOF\n",
        "n1 = len(A)\n",
        "n2= len(B)\n",
        "print(n1,n2)\n",
        "\n",
        "dof = n1+n2-2\n",
        "print('dof',dof)\n",
        "\n",
        "sp_2 = ((n2-1)*S1**2  + (n1-1)*S2**2) / dof\n",
        "print('SP_2 =',sp_2)\n",
        "\n",
        "sp = np.sqrt(sp_2)\n",
        "print('SP',sp)\n",
        "\n",
        "#tvalue\n",
        "t_val = (M1-M2)/(sp * np.sqrt(1/n1 + 1/n2))\n",
        "print('tvalue',t_val[0])"
      ],
      "metadata": {
        "id": "-1UH9CaCDmLL"
      },
      "execution_count": null,
      "outputs": []
    },
    {
      "cell_type": "code",
      "source": [
        "#t-distribution\n",
        "stats.t.ppf(0.025,dof)"
      ],
      "metadata": {
        "id": "2HRoWJgzDmNi"
      },
      "execution_count": null,
      "outputs": []
    },
    {
      "cell_type": "code",
      "source": [
        "#t-distribution\n",
        "stats.t.ppf(0.975,dof)"
      ],
      "metadata": {
        "id": "Nb8hyQy-DmP4"
      },
      "execution_count": null,
      "outputs": []
    },
    {
      "cell_type": "markdown",
      "source": [
        "Because the t-value is not in the range, the null hypothesis is rejected.\n",
        "\n",
        "As a result, The duration which is more than 90 mins are movies"
      ],
      "metadata": {
        "id": "0_I15JQYDwRD"
      }
    },
    {
      "cell_type": "markdown",
      "source": [
        "#***Feature Engineering***\n"
      ],
      "metadata": {
        "id": "eC8gCvKSDxZL"
      }
    },
    {
      "cell_type": "code",
      "source": [
        "df.dtypes\n"
      ],
      "metadata": {
        "id": "cyInRC0GDmSf"
      },
      "execution_count": null,
      "outputs": []
    },
    {
      "cell_type": "code",
      "source": [
        "import nltk\n",
        "nltk.download('stopwords')\n",
        "from nltk.corpus import stopwords\n",
        "from nltk.tokenize import word_tokenize\n",
        "from nltk.stem.snowball import SnowballStemmer\n",
        "nltk.download('punkt')"
      ],
      "metadata": {
        "id": "eW34gXqbC_zl"
      },
      "execution_count": null,
      "outputs": []
    },
    {
      "cell_type": "code",
      "source": [
        "df.dtypes\n"
      ],
      "metadata": {
        "id": "TXyekfbwCwe9"
      },
      "execution_count": null,
      "outputs": []
    },
    {
      "cell_type": "code",
      "source": [
        "df['description'].astype(str)\n"
      ],
      "metadata": {
        "id": "y3mTyWkrCwhY"
      },
      "execution_count": null,
      "outputs": []
    },
    {
      "cell_type": "code",
      "source": [
        "# after above all the changes, those features are in list format, so making list of description feature\n",
        "df['description'] = df['description'].apply(lambda x: x.split(' '))"
      ],
      "metadata": {
        "id": "Dw9eh-ZKBzQJ"
      },
      "execution_count": null,
      "outputs": []
    },
    {
      "cell_type": "code",
      "source": [
        "# converting text feature to string from list\n",
        "df['description']= df['description'].apply(lambda x: \" \".join(x))\n",
        "# making all the words in text feature to lowercase\n",
        "df['description']= df['description'].apply(lambda x: x.lower())"
      ],
      "metadata": {
        "id": "SCD0wzxTEACZ"
      },
      "execution_count": null,
      "outputs": []
    },
    {
      "cell_type": "code",
      "source": [
        "def remove_punctuation(text):\n",
        "    '''a function for removing punctuation'''\n",
        "    import string\n",
        "    # replacing the punctuations with no space, \n",
        "    # which in effect deletes the punctuation marks \n",
        "    translator = str.maketrans('', '', string.punctuation)\n",
        "    # return the text stripped of punctuation marks\n",
        "    return text.translate(translator)\n",
        "# applying above function on text feature\n",
        "df['description']= df['description'].apply(remove_punctuation)"
      ],
      "metadata": {
        "id": "wbEB8DO5EAEn"
      },
      "execution_count": null,
      "outputs": []
    },
    {
      "cell_type": "code",
      "source": [
        "df['description'][0:10]"
      ],
      "metadata": {
        "id": "UWb8OhtGEAJv"
      },
      "execution_count": null,
      "outputs": []
    },
    {
      "cell_type": "code",
      "source": [
        "# using nltk library to download stopwords\n",
        "import nltk\n",
        "nltk.download('stopwords')\n",
        "\n",
        "from nltk.corpus import stopwords\n",
        "sw=stopwords.words('english')\n",
        "#Defining stopwords \n",
        "def stopwords(text):\n",
        "    '''a function for removing the stopword'''\n",
        "    text = [word for word in text.split() if word not in sw]\n",
        "    # joining the list of words with space separator\n",
        "    return \" \".join(text)\n",
        "# applying above function on text feature\n",
        "df['description']=df['description'].apply(stopwords)\n",
        "# this is how value in text looks like after removing stopwords\n",
        "df['description'][0]"
      ],
      "metadata": {
        "id": "WZ2IoEhoEANc"
      },
      "execution_count": null,
      "outputs": []
    },
    {
      "cell_type": "code",
      "source": [
        "# importing TfidVectorizer from sklearn library\n",
        "from sklearn.feature_extraction.text import TfidfVectorizer"
      ],
      "metadata": {
        "id": "fWpIMufkEATC"
      },
      "execution_count": null,
      "outputs": []
    },
    {
      "cell_type": "code",
      "source": [
        "#Applying Tfidf Vectorizer\n",
        "tfidfmodel = TfidfVectorizer(max_features=5000)\n",
        "X_tfidf = tfidfmodel.fit_transform(df['description'])\n",
        "X_tfidf.shape"
      ],
      "metadata": {
        "id": "w7lVf4qREQYT"
      },
      "execution_count": null,
      "outputs": []
    },
    {
      "cell_type": "code",
      "source": [
        "# convert X into array form for clustering\n",
        "X = X_tfidf.toarray() "
      ],
      "metadata": {
        "id": "_xz-yhdVEQbE"
      },
      "execution_count": null,
      "outputs": []
    },
    {
      "cell_type": "markdown",
      "source": [
        "#***Conclusion***"
      ],
      "metadata": {
        "id": "Dlwhu0E5FXU4"
      }
    },
    {
      "cell_type": "markdown",
      "source": [
        "* From elbow and sillhoute score ,optimal of 26 clusters formed , K Means is best for identification than Hierarchical as the evaluation metrics also indicates the same.in kmean cluster 0 has the highest number of datapoints\n",
        "and evnly distributed for other cluster.\n",
        "\n",
        "\n",
        "\n",
        "* Netflix has 5372 movies and 2398 TV shows,\n",
        "there are more number movies on Netflix than TV shows.\n",
        "\n",
        "\n",
        "* TV-MA has the highest number of ratings for tv shows i,e adult ratings.\n",
        "\n",
        "\n",
        "* Highest number of movies released in 2017 and 2018.\n",
        "\n",
        "\n",
        "* Highest number of movies released in 2020 The number of movies on Netflix is growing significantly faster than the number of TV shows. We saw a huge increase in the number of movies and television episodes after 2015. there is a significant drop in the number of movies and television episodes produced after 2020. It appears that Netflix has focused more attention on increasing Movie content than TV Shows. Movies have increased much more dramatically than TV shows.\n",
        "\n",
        "\n",
        "* The most content is added to Netflix from october to january.\n",
        "\n",
        "\n",
        "* Documentaries are the top most genre in netflix which is fllowed by standup comedy and Drams and international movies.\n",
        "\n",
        "\n",
        "* Kids tv is the top most TV show genre in netflix.\n",
        "\n",
        "\n",
        "* Most of the movies have duration of between 50 to 150.\n",
        "\n",
        "\n",
        "* Highest number of tv_shows consistig of single season.\n",
        "\n",
        "\n",
        "* Those movies that have a rating of NC-17 have the longest average duration.\n",
        "\n",
        "\n",
        "* When it comes to movies having a TV-Y rating, they have the shortest runtime on average.\n",
        "\n",
        "\n",
        "* Unitated states has the highest number of content on the netflix ,followed by india.\n",
        "\n",
        "\n",
        "* India has highest number of movies in netflix.\n",
        "\n",
        "\n",
        "* 30% movies released on Netflix.\n",
        "\n",
        "* 70% movies added on Netflix were released earlier by different mode."
      ],
      "metadata": {
        "id": "Fjb1IsQkh3yE"
      }
    }
  ]
}